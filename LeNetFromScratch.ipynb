{
 "cells": [
  {
   "cell_type": "code",
   "execution_count": 1,
   "metadata": {},
   "outputs": [],
   "source": [
    "import tensorflow as tf\n",
    "from tensorflow.keras.datasets import mnist\n",
    "from tensorflow.keras.layers import Conv2D, AveragePooling2D\n",
    "from tensorflow.keras.layers import Dense, Flatten\n",
    "from tensorflow.keras.models import Sequential"
   ]
  },
  {
   "cell_type": "code",
   "execution_count": 2,
   "metadata": {},
   "outputs": [],
   "source": [
    "(x_train,y_train),(x_test,y_test)=mnist.load_data()"
   ]
  },
  {
   "cell_type": "code",
   "execution_count": 3,
   "metadata": {},
   "outputs": [],
   "source": [
    "# Peforming reshaping operation because in the LeNet Arch we have shape of imput as 28*28 as single channel\n",
    "x_train = x_train.reshape(x_train.shape[0], 28, 28, 1)\n",
    "x_test = x_test.reshape(x_test.shape[0], 28, 28, 1)\n",
    "\n",
    "##Normalize the xtrain,xtest\n",
    "x_train = x_train / 255\n",
    "x_test = x_test / 255"
   ]
  },
  {
   "cell_type": "code",
   "execution_count": 4,
   "metadata": {},
   "outputs": [],
   "source": [
    "# One Hot Encoding for final y output because we have 10 categories to get the prediction \n",
    "y_train = tf.keras.utils.to_categorical(y_train, 10)\n",
    "y_test = tf.keras.utils.to_categorical(y_test, 10)"
   ]
  },
  {
   "cell_type": "markdown",
   "metadata": {},
   "source": [
    "<img src='Letnet.png'></img>"
   ]
  },
  {
   "cell_type": "code",
   "execution_count": 5,
   "metadata": {},
   "outputs": [
    {
     "name": "stdout",
     "output_type": "stream",
     "text": [
      "Model: \"sequential\"\n",
      "_________________________________________________________________\n",
      "Layer (type)                 Output Shape              Param #   \n",
      "=================================================================\n",
      "conv2d (Conv2D)              (None, 24, 24, 6)         156       \n",
      "_________________________________________________________________\n",
      "average_pooling2d (AveragePo (None, 12, 12, 6)         0         \n",
      "_________________________________________________________________\n",
      "conv2d_1 (Conv2D)            (None, 8, 8, 16)          2416      \n",
      "_________________________________________________________________\n",
      "average_pooling2d_1 (Average (None, 4, 4, 16)          0         \n",
      "_________________________________________________________________\n",
      "flatten (Flatten)            (None, 256)               0         \n",
      "_________________________________________________________________\n",
      "dense (Dense)                (None, 84)                21588     \n",
      "_________________________________________________________________\n",
      "dense_1 (Dense)              (None, 10)                850       \n",
      "=================================================================\n",
      "Total params: 25,010\n",
      "Trainable params: 25,010\n",
      "Non-trainable params: 0\n",
      "_________________________________________________________________\n"
     ]
    }
   ],
   "source": [
    "# Building the Model Architecture\n",
    "\n",
    "model = Sequential()\n",
    "model.add(Conv2D(6, kernel_size=(5, 5), activation='tanh', input_shape=(28, 28, 1)))\n",
    "model.add(AveragePooling2D(pool_size=(2, 2)))\n",
    "model.add(Conv2D(16, kernel_size=(5, 5), activation='tanh'))\n",
    "model.add(AveragePooling2D(pool_size=(2, 2)))\n",
    "\n",
    "model.add(Flatten())\n",
    "\n",
    "model.add(Dense(84, activation='tanh'))\n",
    "model.add(Dense(10, activation='softmax'))\n",
    "\n",
    "model.summary()\n"
   ]
  },
  {
   "cell_type": "code",
   "execution_count": 6,
   "metadata": {},
   "outputs": [
    {
     "name": "stdout",
     "output_type": "stream",
     "text": [
      "Epoch 1/20\n",
      "469/469 [==============================] - 15s 33ms/step - loss: 0.4055 - accuracy: 0.8883 - val_loss: 0.1867 - val_accuracy: 0.9456\n",
      "Epoch 2/20\n",
      "469/469 [==============================] - 15s 33ms/step - loss: 0.1549 - accuracy: 0.9536 - val_loss: 0.1108 - val_accuracy: 0.9665\n",
      "Epoch 3/20\n",
      "469/469 [==============================] - 15s 32ms/step - loss: 0.1032 - accuracy: 0.9699 - val_loss: 0.0892 - val_accuracy: 0.9726\n",
      "Epoch 4/20\n",
      "469/469 [==============================] - 15s 32ms/step - loss: 0.0778 - accuracy: 0.9773 - val_loss: 0.0762 - val_accuracy: 0.9768\n",
      "Epoch 5/20\n",
      "469/469 [==============================] - 15s 32ms/step - loss: 0.0649 - accuracy: 0.9808 - val_loss: 0.0591 - val_accuracy: 0.9811\n",
      "Epoch 6/20\n",
      "469/469 [==============================] - 15s 32ms/step - loss: 0.0544 - accuracy: 0.9834 - val_loss: 0.0520 - val_accuracy: 0.9831\n",
      "Epoch 7/20\n",
      "469/469 [==============================] - 15s 31ms/step - loss: 0.0473 - accuracy: 0.9856 - val_loss: 0.0528 - val_accuracy: 0.9831\n",
      "Epoch 8/20\n",
      "469/469 [==============================] - 15s 32ms/step - loss: 0.0417 - accuracy: 0.9876 - val_loss: 0.0465 - val_accuracy: 0.9853\n",
      "Epoch 9/20\n",
      "469/469 [==============================] - 14s 31ms/step - loss: 0.0359 - accuracy: 0.9892 - val_loss: 0.0440 - val_accuracy: 0.9852\n",
      "Epoch 10/20\n",
      "469/469 [==============================] - 16s 33ms/step - loss: 0.0324 - accuracy: 0.9903 - val_loss: 0.0431 - val_accuracy: 0.9844\n",
      "Epoch 11/20\n",
      "469/469 [==============================] - 16s 34ms/step - loss: 0.0300 - accuracy: 0.9908 - val_loss: 0.0473 - val_accuracy: 0.9845\n",
      "Epoch 12/20\n",
      "469/469 [==============================] - 16s 33ms/step - loss: 0.0264 - accuracy: 0.9919 - val_loss: 0.0385 - val_accuracy: 0.9868\n",
      "Epoch 13/20\n",
      "469/469 [==============================] - 14s 31ms/step - loss: 0.0238 - accuracy: 0.9930 - val_loss: 0.0370 - val_accuracy: 0.9877\n",
      "Epoch 14/20\n",
      "469/469 [==============================] - 15s 33ms/step - loss: 0.0212 - accuracy: 0.9936 - val_loss: 0.0402 - val_accuracy: 0.9872\n",
      "Epoch 15/20\n",
      "469/469 [==============================] - 15s 31ms/step - loss: 0.0193 - accuracy: 0.9942 - val_loss: 0.0394 - val_accuracy: 0.9866\n",
      "Epoch 16/20\n",
      "469/469 [==============================] - 14s 31ms/step - loss: 0.0174 - accuracy: 0.9949 - val_loss: 0.0372 - val_accuracy: 0.9868\n",
      "Epoch 17/20\n",
      "469/469 [==============================] - 14s 30ms/step - loss: 0.0156 - accuracy: 0.9956 - val_loss: 0.0387 - val_accuracy: 0.9872\n",
      "Epoch 18/20\n",
      "469/469 [==============================] - 14s 30ms/step - loss: 0.0143 - accuracy: 0.9958 - val_loss: 0.0370 - val_accuracy: 0.9863\n",
      "Epoch 19/20\n",
      "469/469 [==============================] - 15s 32ms/step - loss: 0.0130 - accuracy: 0.9962 - val_loss: 0.0374 - val_accuracy: 0.9873\n",
      "Epoch 20/20\n",
      "469/469 [==============================] - 15s 32ms/step - loss: 0.0120 - accuracy: 0.9969 - val_loss: 0.0388 - val_accuracy: 0.9868\n",
      "313/313 [==============================] - 1s 5ms/step - loss: 0.0388 - accuracy: 0.9868\n",
      "Test Loss: 0.038771145045757294\n",
      "Test accuracy: 0.9868000149726868\n"
     ]
    }
   ],
   "source": [
    "model.compile(loss=tf.keras.metrics.categorical_crossentropy, optimizer=tf.keras.optimizers.Adam(), metrics=['accuracy'])\n",
    "model.fit(x_train, y_train, batch_size=128, epochs=20, verbose=1, validation_data=(x_test, y_test))\n",
    "score = model.evaluate(x_test, y_test)\n",
    "print('Test Loss:', score[0])\n",
    "print('Test accuracy:', score[1])"
   ]
  },
  {
   "cell_type": "code",
   "execution_count": null,
   "metadata": {},
   "outputs": [],
   "source": []
  }
 ],
 "metadata": {
  "kernelspec": {
   "display_name": "Python 3",
   "language": "python",
   "name": "python3"
  },
  "language_info": {
   "codemirror_mode": {
    "name": "ipython",
    "version": 3
   },
   "file_extension": ".py",
   "mimetype": "text/x-python",
   "name": "python",
   "nbconvert_exporter": "python",
   "pygments_lexer": "ipython3",
   "version": "3.8.0"
  }
 },
 "nbformat": 4,
 "nbformat_minor": 4
}
